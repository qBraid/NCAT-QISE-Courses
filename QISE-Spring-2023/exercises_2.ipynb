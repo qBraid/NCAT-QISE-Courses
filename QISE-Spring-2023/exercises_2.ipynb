{
 "cells": [
  {
   "attachments": {},
   "cell_type": "markdown",
   "metadata": {},
   "source": [
    "In this Jupyter notebook, you'll find a series of exercises and solutions using Qiskit and Numpy libraries. These exercises will review and cover the following topics:\n",
    "\n",
    "1.    Basics of matrix operations\n",
    "2.    Hermitian and unitary matrices\n",
    "3.    Eigenvalues and eigenvectors\n",
    "4.    Single qubit gates and states\n",
    "5.    Bloch sphere\n",
    "6.    General single qubit U-gate\n",
    "7.    Multi-qubit gates and states"
   ]
  },
  {
   "attachments": {},
   "cell_type": "markdown",
   "metadata": {},
   "source": [
    "Exercise 1: Basics of matrix operations\n",
    "\n",
    "Problem: Create a Python function called matrix_operations that takes in two matrices, A and B, and returns their sum, product, and element-wise product using Numpy."
   ]
  },
  {
   "cell_type": "code",
   "execution_count": null,
   "metadata": {},
   "outputs": [],
   "source": [
    "def matrix_operations(A, B):\n",
    "    # Your code here"
   ]
  },
  {
   "attachments": {},
   "cell_type": "markdown",
   "metadata": {},
   "source": [
    "Exercise 2: Hermitian and unitary matrices\n",
    "\n",
    "Problem: Create a Python function called is_hermitian that takes in a matrix and checks if it is Hermitian using Numpy. Similarly, create a function called is_unitary to check if a matrix is unitary."
   ]
  },
  {
   "cell_type": "code",
   "execution_count": null,
   "metadata": {},
   "outputs": [],
   "source": [
    "def is_hermitian(matrix):\n",
    "    # Your code here\n",
    "\n",
    "def is_unitary(matrix):\n",
    "    # Your code here"
   ]
  },
  {
   "attachments": {},
   "cell_type": "markdown",
   "metadata": {},
   "source": [
    "Exercise 3: Eigenvalues and eigenvectors\n",
    "\n",
    "Problem: Create a Python function called eigen_analysis that takes in a Hermitian matrix and returns its eigenvalues and eigenvectors using Numpy."
   ]
  },
  {
   "cell_type": "code",
   "execution_count": null,
   "metadata": {},
   "outputs": [],
   "source": [
    "def eigen_analysis(matrix):\n",
    "    # Your code here"
   ]
  },
  {
   "attachments": {},
   "cell_type": "markdown",
   "metadata": {},
   "source": [
    "Exercise 4: Single qubit gates and states\n",
    "\n",
    "Problem: Use Qiskit to create the following single-qubit gates and apply them to the state |0⟩:\n",
    "\n",
    "    X gate (bit-flip)\n",
    "    Y gate (bit-and-phase-flip)\n",
    "    Z gate (phase-flip)\n",
    "\n",
    "Return the resulting state for each gate."
   ]
  },
  {
   "attachments": {},
   "cell_type": "markdown",
   "metadata": {},
   "source": [
    "Exercise 5: Bloch sphere\n",
    "\n",
    "Problem: Visualize the states obtained in Exercise 4 on the Bloch Sphere using Qiskit."
   ]
  },
  {
   "attachments": {},
   "cell_type": "markdown",
   "metadata": {},
   "source": [
    "from qiskit.visualization import plot_bloch_multivector\n",
    "\n",
    "plot_bloch_multivector(state_x, title=\"X Gate\")\n",
    "plot_bloch_multivector(state_y, title=\"Y Gate\")\n",
    "plot_bloch_multivector(state_z, title=\"Z Gate\")\n"
   ]
  },
  {
   "attachments": {},
   "cell_type": "markdown",
   "metadata": {},
   "source": [
    "Exercise 6: General single qubit U-gate\n",
    "\n",
    "Problem: Create a Python function called apply_u_gate that takes in three parameters: theta, phi, and lam, and applies the general single-qubit U-gate with these parameters to the state |0⟩. Return the resulting state."
   ]
  },
  {
   "cell_type": "code",
   "execution_count": null,
   "metadata": {},
   "outputs": [],
   "source": [
    "def apply_u_gate(theta, phi, lam):\n",
    "    # Your code here"
   ]
  },
  {
   "attachments": {},
   "cell_type": "markdown",
   "metadata": {},
   "source": [
    "Exercise 7: Multi-qubit gates and states\n",
    "\n",
    "Problem: Use Qiskit to create the following multi-qubit gates and apply them to the state |00⟩:\n",
    "\n",
    "    CNOT gate\n",
    "    SWAP gate\n",
    "\n",
    "Return the resulting state for each gate."
   ]
  }
 ],
 "metadata": {
  "kernelspec": {
   "display_name": "Python 3.9.13 ('base')",
   "language": "python",
   "name": "python3"
  },
  "language_info": {
   "codemirror_mode": {
    "name": "ipython",
    "version": 3
   },
   "file_extension": ".py",
   "mimetype": "text/x-python",
   "name": "python",
   "nbconvert_exporter": "python",
   "pygments_lexer": "ipython3",
   "version": "3.9.13"
  },
  "orig_nbformat": 4,
  "vscode": {
   "interpreter": {
    "hash": "704c4b75839f669e42773d4e25c6320357e5e786e1e8d60996b076083adb3228"
   }
  }
 },
 "nbformat": 4,
 "nbformat_minor": 2
}
