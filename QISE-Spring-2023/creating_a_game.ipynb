{
 "cells": [
  {
   "cell_type": "markdown",
   "id": "316fab10-368c-414c-99e9-51dfd7233ac4",
   "metadata": {},
   "source": [
    "<h1> Quantum Transformation Game </h1>"
   ]
  },
  {
   "cell_type": "markdown",
   "id": "0127cac1-54d8-43c6-8944-d567d7e7c3ca",
   "metadata": {},
   "source": [
    "<h2> Alice will prepare a secret two-qubit state by applying a series of gates. She will then measure one of the qubits and provide Bob with the measurement outcomes (0 or 1) as a hint. Bob will have a total of 100 shots he can ask Alice to use for measurements of any single qubit. Bob will have a chance to apply a series of gates of his choice to transform the secret state into a target state of Alice's choice (|00⟩ or |01⟩). If Bob can transform Alice's secret state into the target state, he wins. Otherwise, Alice wins. </h2>"
   ]
  },
  {
   "cell_type": "markdown",
   "id": "af1cdd78-ec83-4b70-a671-bbbe785dd3f5",
   "metadata": {},
   "source": [
    "Exercise 1: Create a function apply_gates that takes a quantum circuit and a list of tuples as input. Each tuple contains a gate name (string) and a qubit index (integer). The function should apply the specified gates to the given qubits in the circuit."
   ]
  },
  {
   "cell_type": "code",
   "execution_count": 2,
   "id": "284cea3a-f069-4b1d-966c-ee93632f80d8",
   "metadata": {},
   "outputs": [],
   "source": [
    "def apply_gates(qc, gates):\n",
    "    for gate, qubit in gates:\n",
    "        if gate == 'h':\n",
    "            qc.h(qubit)\n",
    "        elif gate == 'x':\n",
    "            qc.x(qubit)\n",
    "        elif gate == 'y':\n",
    "            qc.y(qubit)\n",
    "        elif gate == 'z':\n",
    "            qc.z(qubit)\n",
    "        elif gate == 'cx':\n",
    "            qc.cx(qubit, 1 - qubit)\n"
   ]
  },
  {
   "cell_type": "markdown",
   "id": "60dbad26-d407-4260-aaec-06dbc10fea8a",
   "metadata": {},
   "source": [
    "Exercise 2: Write a function check_win that takes a statevector and Alice's hint as input. The function should return True if the statevector matches the target state based on the hint, and False otherwise."
   ]
  },
  {
   "cell_type": "code",
   "execution_count": 3,
   "id": "105ac9d6-e974-496d-881a-6942b9c92c79",
   "metadata": {},
   "outputs": [],
   "source": [
    "import numpy as np\n",
    "\n",
    "def check_win(statevector, hint):\n",
    "    if hint == '0':\n",
    "        target_state = np.array([1, 0, 0, 0])  # |00⟩ state\n",
    "    else:\n",
    "        target_state = np.array([0, 1, 0, 0])  # |01⟩ state\n",
    "    return np.allclose(statevector, target_state)\n"
   ]
  },
  {
   "cell_type": "markdown",
   "id": "7a3273d2-d0bd-4c4c-b834-8352024b7478",
   "metadata": {},
   "source": [
    "Exercise 3: Create a function alice_prepares_state that takes a list of Alice's gates and returns the measurement outcome of the first qubit as a hint. This function should build a quantum circuit, apply Alice's gates, and then measure the first qubit."
   ]
  },
  {
   "cell_type": "code",
   "execution_count": 1,
   "id": "e9891a33-ae6d-422c-91dd-9c9ad92eb87d",
   "metadata": {},
   "outputs": [
    {
     "name": "stdin",
     "output_type": "stream",
     "text": [
      "How many shots do you want, Bob? 20\n"
     ]
    }
   ],
   "source": [
    "bob_request_shots = input(\"How many shots do you want, Bob?\")\n",
    "remaining_shots = tot_shots - bob_request_shots\n",
    "if remaining_shots > 0:\n",
    "    do thing\n",
    "elif"
   ]
  },
  {
   "cell_type": "code",
   "execution_count": 4,
   "id": "94bb5f34-d457-4913-9d98-46247749c641",
   "metadata": {},
   "outputs": [],
   "source": [
    "from qiskit import QuantumCircuit, Aer, execute\n",
    "\n",
    "def alice_prepares_state(alice_gates, bob_request_shots):\n",
    "    qc = QuantumCircuit(2, 1)\n",
    "    apply_gates(qc, alice_gates)\n",
    "    qc.measure(0, 0)\n",
    "\n",
    "    backend = Aer.get_backend('qasm_simulator')\n",
    "    job = execute(qc, backend, shots=bob_request_shots)\n",
    "    result = job.result()\n",
    "    counts = result.get_counts(qc)\n",
    "    alice_hint = list(counts.keys())[0]\n",
    "\n",
    "    return alice_hint\n"
   ]
  },
  {
   "cell_type": "markdown",
   "id": "f728975c-fd72-4c64-8f88-e98bb8bbe1c6",
   "metadata": {},
   "source": [
    "Exercise 4: Create a function bob_attempts_transformation that takes a list of Alice's gates, Alice's hint, and a list of Bob's gates as input. This function should apply Alice's gates, reset the measured qubit, apply Bob's gates, and then return the final statevector."
   ]
  },
  {
   "cell_type": "code",
   "execution_count": 5,
   "id": "1776e075-804b-4bb7-ad0b-6a4d734ecc6f",
   "metadata": {},
   "outputs": [],
   "source": [
    "def bob_attempts_transformation(alice_gates, alice_hint, bob_gates):\n",
    "    qc = QuantumCircuit(2, 1)\n",
    "    apply_gates(qc, alice_gates)\n",
    "    qc.measure(0, 0)\n",
    "    qc.reset(0)\n",
    "    apply_gates(qc, bob_gates)\n",
    "\n",
    "    backend = Aer.get_backend('statevector_simulator')\n",
    "    job = execute(qc, backend)\n",
    "    result = job.result()\n",
    "\n",
    "    return result.get_statevector(qc)\n"
   ]
  },
  {
   "cell_type": "markdown",
   "id": "b671d6ee-ee38-4398-b2a4-89e615e199e9",
   "metadata": {},
   "source": [
    "Exercise 5: Put everything together in a function called quantum_transformation_game. This function should take two lists of tuples as input, representing Alice's and Bob's gate choices, respectively. The function should return 'Alice' if Alice wins and 'Bob' if Bob wins."
   ]
  },
  {
   "cell_type": "code",
   "execution_count": 6,
   "id": "fb2ddd57-5267-4993-9c51-0d39412b3f84",
   "metadata": {},
   "outputs": [],
   "source": [
    "def quantum_transformation_game(alice_gates, bob_gates):\n",
    "    alice_hint = alice_prepares_state(alice_gates)\n",
    "    print(f\"Alice's hint: {alice_hint}\")\n",
    "\n"
   ]
  },
  {
   "cell_type": "code",
   "execution_count": null,
   "id": "4657e9e6-f12f-451b-bc04-ca78b17a87b2",
   "metadata": {},
   "outputs": [],
   "source": []
  }
 ],
 "metadata": {
  "kernelspec": {
   "display_name": "Python 3 [Default]",
   "language": "python",
   "name": "python3"
  },
  "language_info": {
   "codemirror_mode": {
    "name": "ipython",
    "version": 3
   },
   "file_extension": ".py",
   "mimetype": "text/x-python",
   "name": "python",
   "nbconvert_exporter": "python",
   "pygments_lexer": "ipython3",
   "version": "3.9.10"
  }
 },
 "nbformat": 4,
 "nbformat_minor": 5
}
