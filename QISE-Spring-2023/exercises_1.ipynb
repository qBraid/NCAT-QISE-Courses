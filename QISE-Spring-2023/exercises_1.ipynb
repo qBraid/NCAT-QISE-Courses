{
 "cells": [
  {
   "attachments": {},
   "cell_type": "markdown",
   "metadata": {},
   "source": [
    "Complete all exercises at your own pace and using original work. Please do not copy/paste code you find online or from your neighbors. You may discuss solutions but make sure that you write your own answer. For references on available functions/methods, consult the Qiskit documentation at https://qiskit.org/documentation/. \n",
    "\n",
    "Please complete these exercises inside your personal GitHub repository for the class. After each few problems, you should make sure to save your work and commit changes to your GitHub repository. You can do this using the following steps:\n",
    "\n",
    "Step 1) Open a terminal.\n",
    "\n",
    "Step 2) `cd` to the folder where your GitHub repository is located.\n",
    "\n",
    "Step 3) Run `git add .` to add all changes in your repository.\n",
    "\n",
    "Step 4) Run `git commit -m 'write a descriptive message to remind yourself/others of the changes you are committing'`.\n",
    "\n",
    "Step 5) Run `git push` to upload your changes to GitHub.\n",
    "\n",
    "Step 6) Open your repository on GitHub to confirm changes have been committed.\n",
    "\n",
    "Good luck!"
   ]
  },
  {
   "attachments": {},
   "cell_type": "markdown",
   "metadata": {},
   "source": [
    "1. Create a quantum circuit with Qiskit that consists of a single qubit and a Hadamard gate applied to it. Print the circuit and draw its visualization using the draw method."
   ]
  },
  {
   "cell_type": "code",
   "execution_count": null,
   "metadata": {},
   "outputs": [],
   "source": []
  },
  {
   "attachments": {},
   "cell_type": "markdown",
   "metadata": {},
   "source": [
    "2. Simulate the above circuit using the Aer `qasm_simulator` provided by Qiskit using 1000 shots. Print the result of your shots. Does it make sense?"
   ]
  },
  {
   "cell_type": "code",
   "execution_count": null,
   "metadata": {},
   "outputs": [],
   "source": []
  },
  {
   "cell_type": "code",
   "execution_count": null,
   "metadata": {},
   "outputs": [],
   "source": []
  },
  {
   "attachments": {},
   "cell_type": "markdown",
   "metadata": {},
   "source": [
    "3. Simulate the above circuit using the Aer `statevector_simulator` provided by Qiskit. Print the resulting statevector."
   ]
  },
  {
   "cell_type": "code",
   "execution_count": null,
   "metadata": {},
   "outputs": [],
   "source": []
  },
  {
   "attachments": {},
   "cell_type": "markdown",
   "metadata": {},
   "source": [
    "4. Create a function that takes a single qubit quantum circuit as input and returns the probability of measuring the qubit in the state |0⟩."
   ]
  },
  {
   "cell_type": "code",
   "execution_count": null,
   "metadata": {},
   "outputs": [],
   "source": []
  },
  {
   "cell_type": "code",
   "execution_count": null,
   "metadata": {},
   "outputs": [],
   "source": []
  },
  {
   "attachments": {},
   "cell_type": "markdown",
   "metadata": {},
   "source": [
    "5. Create a quantum circuit with Qiskit that consists of two qubits and a CNOT gate applied to them. Print the circuit and draw its visualization using the draw method."
   ]
  },
  {
   "cell_type": "code",
   "execution_count": null,
   "metadata": {},
   "outputs": [],
   "source": []
  },
  {
   "attachments": {},
   "cell_type": "markdown",
   "metadata": {},
   "source": [
    "6. Simulate the above circuit using the Aer `qasm_simulator` provided by Qiskit. Print the resulting counts using the counts method."
   ]
  },
  {
   "cell_type": "code",
   "execution_count": null,
   "metadata": {},
   "outputs": [],
   "source": []
  },
  {
   "cell_type": "code",
   "execution_count": null,
   "metadata": {},
   "outputs": [],
   "source": []
  },
  {
   "attachments": {},
   "cell_type": "markdown",
   "metadata": {},
   "source": [
    "7. Did you only get '00' counts from the previous measurement? If so, what single gate can you add to the beginning of the circuit such that measurements always give '11'?"
   ]
  },
  {
   "cell_type": "code",
   "execution_count": null,
   "metadata": {},
   "outputs": [],
   "source": []
  },
  {
   "attachments": {},
   "cell_type": "markdown",
   "metadata": {},
   "source": [
    "8. What can I change such that this creates a Bell state? Do this and then perform a measurement using both `qasm_simulator` and `statevector_simulator`. For the statevector simulator, make sure you understand the output. Describe in words the difference between these two simulators."
   ]
  },
  {
   "cell_type": "code",
   "execution_count": null,
   "metadata": {},
   "outputs": [],
   "source": []
  },
  {
   "cell_type": "code",
   "execution_count": null,
   "metadata": {},
   "outputs": [],
   "source": []
  },
  {
   "attachments": {},
   "cell_type": "markdown",
   "metadata": {},
   "source": [
    "9. \n",
    "a) Write any two-qubit circuit on paper.\n",
    "b) Carry out the by-hand matrix multiplication to find both the net unitary matrix and final state.\n",
    "c) Code the 2 qubit circuit using qiskit\n",
    "d) Use the `unitary_simulator` and `statevector_simulator` to extract the net unitary matrix and final state to compare with your by-hand result."
   ]
  },
  {
   "cell_type": "code",
   "execution_count": null,
   "metadata": {},
   "outputs": [],
   "source": []
  },
  {
   "attachments": {},
   "cell_type": "markdown",
   "metadata": {},
   "source": [
    "10. Using Qiskit, write a two-qubit circuit where a single Hadamard acts on the 0th qubit and a single X acts on the 1st qubit. Extract the unitary matrix for this circuit using code and calculate this matrix by-hand."
   ]
  },
  {
   "cell_type": "code",
   "execution_count": null,
   "metadata": {},
   "outputs": [],
   "source": []
  },
  {
   "attachments": {},
   "cell_type": "markdown",
   "metadata": {},
   "source": [
    "11.  Prove using both by-hand calculation and qiskit/numpy that the single-qubit circuits (1: HZH, 2: RX(pi) 3: X) are equivalent. Remember that global phases can be neglected."
   ]
  },
  {
   "cell_type": "code",
   "execution_count": null,
   "metadata": {},
   "outputs": [],
   "source": []
  },
  {
   "cell_type": "code",
   "execution_count": null,
   "metadata": {},
   "outputs": [],
   "source": []
  },
  {
   "attachments": {},
   "cell_type": "markdown",
   "metadata": {},
   "source": [
    "(Extra) Do the same for the circuit identities listed at https://qiskit.org/textbook/ch-gates/more-circuit-identities.html"
   ]
  }
 ],
 "metadata": {
  "kernelspec": {
   "display_name": "Python 3.9.6 64-bit",
   "language": "python",
   "name": "python3"
  },
  "language_info": {
   "codemirror_mode": {
    "name": "ipython",
    "version": 3
   },
   "file_extension": ".py",
   "mimetype": "text/x-python",
   "name": "python",
   "nbconvert_exporter": "python",
   "pygments_lexer": "ipython3",
   "version": "3.9.6"
  },
  "orig_nbformat": 4,
  "vscode": {
   "interpreter": {
    "hash": "31f2aee4e71d21fbe5cf8b01ff0e069b9275f58929596ceb00d14d90e3e16cd6"
   }
  }
 },
 "nbformat": 4,
 "nbformat_minor": 2
}
