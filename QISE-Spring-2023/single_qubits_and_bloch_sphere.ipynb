{
 "cells": [
  {
   "cell_type": "code",
   "execution_count": null,
   "metadata": {},
   "outputs": [],
   "source": [
    "# Now let's do this in Qiskit\n",
    "\n",
    "from qiskit import QuantumCircuit #import qiskit\n",
    "\n",
    "circ = QuantumCircuit(1,1)  #create QuantumCircuit object\n",
    "circ.draw(output='mpl')   #visualize the circuit"
   ]
  },
  {
   "cell_type": "code",
   "execution_count": null,
   "metadata": {},
   "outputs": [],
   "source": [
    "circ.x(0)  #add Hadamard gate to circuit\n",
    "circ.draw(output='mpl')   #visualize the circuit"
   ]
  },
  {
   "cell_type": "code",
   "execution_count": null,
   "metadata": {},
   "outputs": [],
   "source": [
    "circ.measure(0,0); #add a measurement to the circuit\n",
    "circ.draw(output='mpl')   #visualize the circuit"
   ]
  },
  {
   "cell_type": "code",
   "execution_count": null,
   "metadata": {},
   "outputs": [],
   "source": [
    "from qiskit import Aer, execute # Import Aer and execute\n",
    "backend_sim = Aer.get_backend('qasm_simulator') #create backend object"
   ]
  },
  {
   "cell_type": "code",
   "execution_count": null,
   "metadata": {},
   "outputs": [],
   "source": [
    "sim = execute(circ, backend_sim, shots=1000) #run the simulation"
   ]
  },
  {
   "cell_type": "code",
   "execution_count": null,
   "metadata": {},
   "outputs": [],
   "source": [
    "sim_result = sim.result() #get result object\n",
    "counts = sim_result.get_counts(circ) #obtain the counts from the result object\n",
    "print(counts)"
   ]
  },
  {
   "cell_type": "code",
   "execution_count": null,
   "metadata": {},
   "outputs": [],
   "source": [
    "from qiskit import QuantumCircuit, Aer, execute\n",
    "from qiskit.tools.visualization import plot_bloch_multivector\n",
    "\n",
    "circ = QuantumCircuit(1,1)\n",
    "\n",
    "sim_statevector = Aer.get_backend('aer_simulator_statevector') #we use a different simulator that keeps track of the full state vector\n",
    "job_statevector = sim_statevector.run(circ, shots=1)  #a single shot is all we need since we aren't actually measuring the state\n",
    "\n",
    "backend = Aer.get_backend('statevector_simulator')   #a different backend than the qasm_simulator that gives the statevector\n",
    "job = execute(circ, backend=backend, shots=1, memory=True)\n",
    "job_result = job.result()\n",
    "\n",
    "\n",
    "plot_bloch_multivector(job_result.get_statevector(circ))"
   ]
  },
  {
   "cell_type": "code",
   "execution_count": null,
   "metadata": {},
   "outputs": [],
   "source": [
    "from qiskit import QuantumCircuit\n",
    "from qiskit.tools.visualization import plot_bloch_multivector, plot_bloch_vector\n",
    "circ = QuantumCircuit(1,1)\n",
    "circ.x(0)\n",
    "\n",
    "from qiskit import Aer, execute\n",
    "sim_statevector = Aer.get_backend('aer_simulator_statevector')\n",
    "job_statevector = sim_statevector.run(circ, shots=1)\n",
    "\n",
    "backend = Aer.get_backend('statevector_simulator')   #a different backend than the qasm_simulator that gives the statevector\n",
    "job = execute(circ, backend=backend, shots=1, memory=True)\n",
    "job_result = job.result()\n",
    "\n",
    "\n",
    "plot_bloch_multivector(job_result.get_statevector(circ))"
   ]
  },
  {
   "cell_type": "code",
   "execution_count": null,
   "metadata": {},
   "outputs": [],
   "source": [
    "from qiskit import QuantumCircuit\n",
    "from qiskit.tools.visualization import plot_bloch_multivector, plot_bloch_vector\n",
    "circ = QuantumCircuit(1,1)\n",
    "circ.h(0)\n",
    "\n",
    "from qiskit import Aer, execute\n",
    "sim_statevector = Aer.get_backend('aer_simulator_statevector')\n",
    "job_statevector = sim_statevector.run(circ, shots=1)\n",
    "\n",
    "backend = Aer.get_backend('statevector_simulator')   #a different backend than the qasm_simulator that gives the statevector\n",
    "job = execute(circ, backend=backend, shots=1, memory=True)\n",
    "job_result = job.result()\n",
    "\n",
    "\n",
    "plot_bloch_multivector(job_result.get_statevector(circ))"
   ]
  },
  {
   "cell_type": "code",
   "execution_count": null,
   "metadata": {},
   "outputs": [],
   "source": [
    "from qiskit import QuantumCircuit\n",
    "from qiskit.tools.visualization import plot_bloch_multivector, plot_bloch_vector\n",
    "circ = QuantumCircuit(1,1)\n",
    "circ.x(0)\n",
    "circ.h(0)\n",
    "\n",
    "from qiskit import Aer, execute\n",
    "sim_statevector = Aer.get_backend('aer_simulator_statevector')\n",
    "job_statevector = sim_statevector.run(circ, shots=1)\n",
    "\n",
    "backend = Aer.get_backend('statevector_simulator')   #a different backend than the qasm_simulator that gives the statevector\n",
    "job = execute(circ, backend=backend, shots=1, memory=True)\n",
    "job_result = job.result()\n",
    "\n",
    "plot_bloch_multivector(job_result.get_statevector(circ))\n"
   ]
  },
  {
   "cell_type": "code",
   "execution_count": null,
   "metadata": {},
   "outputs": [],
   "source": [
    "from qiskit import QuantumCircuit\n",
    "from qiskit.tools.visualization import plot_bloch_multivector, plot_bloch_vector\n",
    "import numpy as np\n",
    "\n",
    "circ = QuantumCircuit(1,1)\n",
    "circ.u(np.pi/2,-np.pi/2,np.pi/2,0)\n",
    "print(circ.draw())\n",
    "\n",
    "from qiskit import Aer, execute\n",
    "sim_statevector = Aer.get_backend('aer_simulator_statevector')\n",
    "job_statevector = sim_statevector.run(circ, shots=1)\n",
    "\n",
    "backend = Aer.get_backend('statevector_simulator')   #a different backend than the qasm_simulator that gives the statevector\n",
    "job = execute(circ, backend=backend, shots=1, memory=True)\n",
    "job_result = job.result()\n",
    "\n",
    "print(job_result.get_statevector(circ))\n",
    "\n",
    "plot_bloch_multivector(job_result.get_statevector(circ))\n"
   ]
  },
  {
   "cell_type": "code",
   "execution_count": null,
   "metadata": {},
   "outputs": [],
   "source": [
    "from qiskit import QuantumCircuit\n",
    "from qiskit.tools.visualization import plot_bloch_multivector, plot_bloch_vector\n",
    "import numpy as np\n",
    "\n",
    "circ = QuantumCircuit(1,1)\n",
    "circ.u(np.pi/2,0,0,0)\n",
    "print(circ.draw())\n",
    "\n",
    "from qiskit import Aer, execute\n",
    "sim_statevector = Aer.get_backend('aer_simulator_statevector')\n",
    "job_statevector = sim_statevector.run(circ, shots=1)\n",
    "\n",
    "backend = Aer.get_backend('statevector_simulator')   #a different backend than the qasm_simulator that gives the statevector\n",
    "job = execute(circ, backend=backend, shots=1, memory=True)\n",
    "job_result = job.result()\n",
    "\n",
    "print(job_result.get_statevector(circ))\n",
    "\n",
    "\n",
    "plot_bloch_multivector(job_result.get_statevector(circ))"
   ]
  },
  {
   "cell_type": "code",
   "execution_count": 4,
   "metadata": {},
   "outputs": [
    {
     "name": "stdout",
     "output_type": "stream",
     "text": [
      "Operator([[1.+0.j, 0.+0.j, 0.+0.j, 0.+0.j],\n",
      "          [0.+0.j, 0.+0.j, 1.+0.j, 0.+0.j],\n",
      "          [0.+0.j, 1.+0.j, 0.+0.j, 0.+0.j],\n",
      "          [0.+0.j, 0.+0.j, 0.+0.j, 1.+0.j]],\n",
      "         input_dims=(2, 2), output_dims=(2, 2))\n"
     ]
    }
   ],
   "source": [
    "import qiskit.quantum_info as qi\n",
    "from qiskit import QuantumCircuit\n",
    "\n",
    "\n",
    "circ = QuantumCircuit(2,1)\n",
    "circ.swap(0,1)\n",
    "op = qi.Operator(circ)\n",
    "\n",
    "print(op)"
   ]
  },
  {
   "cell_type": "code",
   "execution_count": null,
   "metadata": {},
   "outputs": [],
   "source": []
  }
 ],
 "metadata": {
  "kernelspec": {
   "display_name": "Python 3.9.13 ('base')",
   "language": "python",
   "name": "python3"
  },
  "language_info": {
   "codemirror_mode": {
    "name": "ipython",
    "version": 3
   },
   "file_extension": ".py",
   "mimetype": "text/x-python",
   "name": "python",
   "nbconvert_exporter": "python",
   "pygments_lexer": "ipython3",
   "version": "3.9.13"
  },
  "orig_nbformat": 4,
  "vscode": {
   "interpreter": {
    "hash": "704c4b75839f669e42773d4e25c6320357e5e786e1e8d60996b076083adb3228"
   }
  }
 },
 "nbformat": 4,
 "nbformat_minor": 2
}
